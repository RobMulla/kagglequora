{
 "cells": [
  {
   "cell_type": "code",
   "execution_count": 1,
   "metadata": {
    "collapsed": true
   },
   "outputs": [],
   "source": [
    "import pandas as pd\n",
    "import numpy as np"
   ]
  },
  {
   "cell_type": "code",
   "execution_count": 2,
   "metadata": {
    "collapsed": true
   },
   "outputs": [],
   "source": [
    "# word share features do not remove stop words, but we might as well see if it helps"
   ]
  },
  {
   "cell_type": "code",
   "execution_count": 3,
   "metadata": {
    "collapsed": true
   },
   "outputs": [],
   "source": [
    "df_train = pd.read_csv('../input/train.csv')\n",
    "df_test = pd.read_csv('../input/test.csv')"
   ]
  },
  {
   "cell_type": "code",
   "execution_count": 4,
   "metadata": {
    "collapsed": true
   },
   "outputs": [],
   "source": [
    "df_train['q1len'] = df_train['question1'].str.len()\n",
    "df_train['q2len'] = df_train['question2'].str.len()\n",
    "df_test['q1len'] = df_test['question1'].str.len()\n",
    "df_test['q2len'] = df_test['question2'].str.len()\n",
    "\n",
    "# lets calculate difference in question length as well\n",
    "df_train['diff_len'] = df_train['q1len'] - df_train['q2len']\n",
    "df_test['diff_len'] = df_test['q1len'] - df_test['q2len']"
   ]
  },
  {
   "cell_type": "code",
   "execution_count": 6,
   "metadata": {
    "collapsed": false
   },
   "outputs": [],
   "source": [
    "df_train.fillna(\"\", inplace=True)\n",
    "df_test.fillna(\"\", inplace=True)\n",
    "\n",
    "df_train['q1_n_words'] = df_train['question1'].apply(lambda row: len(row.split(\" \")))\n",
    "df_train['q2_n_words'] = df_train['question2'].apply(lambda row: len(row.split(\" \")))\n",
    "df_test['q1_n_words'] = df_test['question1'].apply(lambda row: len(row.split(\" \")))\n",
    "df_test['q2_n_words'] = df_test['question2'].apply(lambda row: len(row.split(\" \")))\n",
    "\n",
    "df_train['diff_n_words'] = df_train['q1_n_words'] - df_train['q2_n_words']\n",
    "df_test['diff_n_words'] = df_test['q1_n_words'] - df_test['q2_n_words']"
   ]
  },
  {
   "cell_type": "code",
   "execution_count": 8,
   "metadata": {
    "collapsed": true
   },
   "outputs": [],
   "source": [
    "def normalized_word_share(row):\n",
    "    w1 = set(map(lambda word: word.lower().strip(), row['question1'].split(\" \")))\n",
    "    w2 = set(map(lambda word: word.lower().strip(), row['question2'].split(\" \")))    \n",
    "    return 1.0 * len(w1 & w2)/(len(w1) + len(w2))"
   ]
  },
  {
   "cell_type": "code",
   "execution_count": 9,
   "metadata": {
    "collapsed": false
   },
   "outputs": [],
   "source": [
    "df_train['word_share'] = df_train.apply(normalized_word_share, axis=1)\n",
    "df_test['word_share'] = df_test.apply(normalized_word_share, axis=1)"
   ]
  },
  {
   "cell_type": "code",
   "execution_count": 11,
   "metadata": {
    "collapsed": false
   },
   "outputs": [],
   "source": [
    "df_train.drop(['id', 'qid1', 'qid2', 'question1', 'question2', 'is_duplicate'], axis=1, inplace=True)"
   ]
  },
  {
   "cell_type": "code",
   "execution_count": 13,
   "metadata": {
    "collapsed": false
   },
   "outputs": [],
   "source": [
    "df_test.drop(['test_id', 'question1', 'question2'], axis=1, inplace=True)"
   ]
  },
  {
   "cell_type": "code",
   "execution_count": 14,
   "metadata": {
    "collapsed": true
   },
   "outputs": [],
   "source": [
    "df_train.to_csv('../processing/train_word_lens.csv', index=False)\n",
    "df_test.to_csv('../processing/test_word_lens.csv', index=False)"
   ]
  },
  {
   "cell_type": "code",
   "execution_count": null,
   "metadata": {
    "collapsed": true
   },
   "outputs": [],
   "source": []
  }
 ],
 "metadata": {
  "kernelspec": {
   "display_name": "Python 3",
   "language": "python",
   "name": "python3"
  },
  "language_info": {
   "codemirror_mode": {
    "name": "ipython",
    "version": 3
   },
   "file_extension": ".py",
   "mimetype": "text/x-python",
   "name": "python",
   "nbconvert_exporter": "python",
   "pygments_lexer": "ipython3",
   "version": "3.6.1"
  }
 },
 "nbformat": 4,
 "nbformat_minor": 2
}
