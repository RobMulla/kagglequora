{
 "cells": [
  {
   "cell_type": "code",
   "execution_count": 1,
   "metadata": {
    "collapsed": true
   },
   "outputs": [],
   "source": [
    "import pandas as pd\n",
    "import os"
   ]
  },
  {
   "cell_type": "code",
   "execution_count": 2,
   "metadata": {},
   "outputs": [
    {
     "data": {
      "text/plain": [
       "['test_combined.csv',\n",
       " 'test_fuzzy.csv',\n",
       " 'test_grams.csv',\n",
       " 'test_polarity.csv',\n",
       " 'test_word_lens.csv',\n",
       " 'testwordmatch.csv',\n",
       " 'train_combined.csv',\n",
       " 'train_fuzzy.csv',\n",
       " 'train_grams.csv',\n",
       " 'train_polarity.csv',\n",
       " 'train_word_lens.csv',\n",
       " 'trainwordmatch.csv']"
      ]
     },
     "execution_count": 2,
     "metadata": {},
     "output_type": "execute_result"
    }
   ],
   "source": [
    "os.listdir('../processing/')"
   ]
  },
  {
   "cell_type": "code",
   "execution_count": 3,
   "metadata": {
    "collapsed": true
   },
   "outputs": [],
   "source": [
    "f1=pd.read_csv('../processing/train_grams.csv')\n",
    "f2=pd.read_csv('../processing/train_polarity.csv')\n",
    "f3=pd.read_csv('../processing/train_word_lens.csv')\n",
    "f4=pd.read_csv('../processing/trainwordmatch.csv')\n",
    "f5=pd.read_csv('../processing/train_fuzzy.csv')\n",
    "train = pd.concat([f1,f2,f3,f4,f5], axis=1)"
   ]
  },
  {
   "cell_type": "code",
   "execution_count": 4,
   "metadata": {},
   "outputs": [],
   "source": [
    "train.drop(['question1', 'question2', 'trigrams_ques1', 'trigrams_ques2'], axis=1, inplace=True)"
   ]
  },
  {
   "cell_type": "code",
   "execution_count": 5,
   "metadata": {},
   "outputs": [
    {
     "data": {
      "text/html": [
       "<div>\n",
       "<table border=\"1\" class=\"dataframe\">\n",
       "  <thead>\n",
       "    <tr style=\"text-align: right;\">\n",
       "      <th></th>\n",
       "      <th>unigrams_common_count</th>\n",
       "      <th>unigrams_common_ratio</th>\n",
       "      <th>bigrams_common_count</th>\n",
       "      <th>bigrams_common_ratio</th>\n",
       "      <th>trigrams_common_count</th>\n",
       "      <th>trigrams_common_ratio</th>\n",
       "      <th>q1_polarity</th>\n",
       "      <th>q2_polarity</th>\n",
       "      <th>q1len</th>\n",
       "      <th>q2len</th>\n",
       "      <th>...</th>\n",
       "      <th>qid1</th>\n",
       "      <th>qid2</th>\n",
       "      <th>is_duplicate</th>\n",
       "      <th>fuzz_qratio</th>\n",
       "      <th>fuzz_WRatio</th>\n",
       "      <th>fuzz_partial_ratio</th>\n",
       "      <th>fuzz_partial_token_set_ratio</th>\n",
       "      <th>fuzz_partial_token_sort_ratio</th>\n",
       "      <th>fuzz_token_set_ratio</th>\n",
       "      <th>fuzz_token_sort_ratio</th>\n",
       "    </tr>\n",
       "  </thead>\n",
       "  <tbody>\n",
       "    <tr>\n",
       "      <th>0</th>\n",
       "      <td>6</td>\n",
       "      <td>0.857143</td>\n",
       "      <td>39</td>\n",
       "      <td>0.886364</td>\n",
       "      <td>48</td>\n",
       "      <td>0.872727</td>\n",
       "      <td>0.296</td>\n",
       "      <td>0.296</td>\n",
       "      <td>66</td>\n",
       "      <td>57.0</td>\n",
       "      <td>...</td>\n",
       "      <td>1</td>\n",
       "      <td>2</td>\n",
       "      <td>0</td>\n",
       "      <td>93</td>\n",
       "      <td>95</td>\n",
       "      <td>98</td>\n",
       "      <td>100</td>\n",
       "      <td>89</td>\n",
       "      <td>100</td>\n",
       "      <td>93</td>\n",
       "    </tr>\n",
       "  </tbody>\n",
       "</table>\n",
       "<p>1 rows × 28 columns</p>\n",
       "</div>"
      ],
      "text/plain": [
       "   unigrams_common_count  unigrams_common_ratio  bigrams_common_count  \\\n",
       "0                      6               0.857143                    39   \n",
       "\n",
       "   bigrams_common_ratio  trigrams_common_count  trigrams_common_ratio  \\\n",
       "0              0.886364                     48               0.872727   \n",
       "\n",
       "   q1_polarity  q2_polarity  q1len  q2len          ...            qid1  qid2  \\\n",
       "0        0.296        0.296     66   57.0          ...               1     2   \n",
       "\n",
       "   is_duplicate  fuzz_qratio  fuzz_WRatio  fuzz_partial_ratio  \\\n",
       "0             0           93           95                  98   \n",
       "\n",
       "   fuzz_partial_token_set_ratio  fuzz_partial_token_sort_ratio  \\\n",
       "0                           100                             89   \n",
       "\n",
       "   fuzz_token_set_ratio  fuzz_token_sort_ratio  \n",
       "0                   100                     93  \n",
       "\n",
       "[1 rows x 28 columns]"
      ]
     },
     "execution_count": 5,
     "metadata": {},
     "output_type": "execute_result"
    }
   ],
   "source": [
    "train.head(1)"
   ]
  },
  {
   "cell_type": "code",
   "execution_count": 6,
   "metadata": {
    "collapsed": true
   },
   "outputs": [],
   "source": [
    "del f1, f2, f3, f4, f5"
   ]
  },
  {
   "cell_type": "code",
   "execution_count": 7,
   "metadata": {
    "collapsed": true
   },
   "outputs": [],
   "source": [
    "f1=pd.read_csv('../processing/test_grams.csv')\n",
    "f2=pd.read_csv('../processing/test_polarity.csv')\n",
    "f3=pd.read_csv('../processing/test_word_lens.csv')\n",
    "f4=pd.read_csv('../processing/testwordmatch.csv')\n",
    "f5=pd.read_csv('../processing/test_fuzzy.csv')\n",
    "test = pd.concat([f1,f2,f3,f4,f5], axis=1)"
   ]
  },
  {
   "cell_type": "code",
   "execution_count": 8,
   "metadata": {},
   "outputs": [],
   "source": [
    "test.drop(['question1', 'question2', 'trigrams_ques1', 'trigrams_ques2'], axis=1, inplace=True)"
   ]
  },
  {
   "cell_type": "code",
   "execution_count": 9,
   "metadata": {},
   "outputs": [
    {
     "data": {
      "text/html": [
       "<div>\n",
       "<table border=\"1\" class=\"dataframe\">\n",
       "  <thead>\n",
       "    <tr style=\"text-align: right;\">\n",
       "      <th></th>\n",
       "      <th>unigrams_common_count</th>\n",
       "      <th>unigrams_common_ratio</th>\n",
       "      <th>bigrams_common_count</th>\n",
       "      <th>bigrams_common_ratio</th>\n",
       "      <th>trigrams_common_count</th>\n",
       "      <th>trigrams_common_ratio</th>\n",
       "      <th>q1_polarity</th>\n",
       "      <th>q2_polarity</th>\n",
       "      <th>q1len</th>\n",
       "      <th>q2len</th>\n",
       "      <th>...</th>\n",
       "      <th>word_match</th>\n",
       "      <th>tfidf_word_match</th>\n",
       "      <th>test_id</th>\n",
       "      <th>fuzz_qratio</th>\n",
       "      <th>fuzz_WRatio</th>\n",
       "      <th>fuzz_partial_ratio</th>\n",
       "      <th>fuzz_partial_token_set_ratio</th>\n",
       "      <th>fuzz_partial_token_sort_ratio</th>\n",
       "      <th>fuzz_token_set_ratio</th>\n",
       "      <th>fuzz_token_sort_ratio</th>\n",
       "    </tr>\n",
       "  </thead>\n",
       "  <tbody>\n",
       "    <tr>\n",
       "      <th>0</th>\n",
       "      <td>4</td>\n",
       "      <td>0.333333</td>\n",
       "      <td>22</td>\n",
       "      <td>0.275</td>\n",
       "      <td>14</td>\n",
       "      <td>0.14</td>\n",
       "      <td>0.0</td>\n",
       "      <td>0.0</td>\n",
       "      <td>57.0</td>\n",
       "      <td>68.0</td>\n",
       "      <td>...</td>\n",
       "      <td>0.266667</td>\n",
       "      <td>0.274019</td>\n",
       "      <td>0</td>\n",
       "      <td>46</td>\n",
       "      <td>55</td>\n",
       "      <td>46</td>\n",
       "      <td>100</td>\n",
       "      <td>59</td>\n",
       "      <td>58</td>\n",
       "      <td>55</td>\n",
       "    </tr>\n",
       "  </tbody>\n",
       "</table>\n",
       "<p>1 rows × 25 columns</p>\n",
       "</div>"
      ],
      "text/plain": [
       "   unigrams_common_count  unigrams_common_ratio  bigrams_common_count  \\\n",
       "0                      4               0.333333                    22   \n",
       "\n",
       "   bigrams_common_ratio  trigrams_common_count  trigrams_common_ratio  \\\n",
       "0                 0.275                     14                   0.14   \n",
       "\n",
       "   q1_polarity  q2_polarity  q1len  q2len          ...            word_match  \\\n",
       "0          0.0          0.0   57.0   68.0          ...              0.266667   \n",
       "\n",
       "   tfidf_word_match  test_id  fuzz_qratio  fuzz_WRatio  fuzz_partial_ratio  \\\n",
       "0          0.274019        0           46           55                  46   \n",
       "\n",
       "   fuzz_partial_token_set_ratio  fuzz_partial_token_sort_ratio  \\\n",
       "0                           100                             59   \n",
       "\n",
       "   fuzz_token_set_ratio  fuzz_token_sort_ratio  \n",
       "0                    58                     55  \n",
       "\n",
       "[1 rows x 25 columns]"
      ]
     },
     "execution_count": 9,
     "metadata": {},
     "output_type": "execute_result"
    }
   ],
   "source": [
    "test.head(1)"
   ]
  },
  {
   "cell_type": "code",
   "execution_count": 10,
   "metadata": {
    "collapsed": true
   },
   "outputs": [],
   "source": [
    "train.to_csv('../processing/train_combined.csv', index=False)\n",
    "test.to_csv('../processing/test_combined.csv', index=False)"
   ]
  },
  {
   "cell_type": "code",
   "execution_count": null,
   "metadata": {
    "collapsed": true
   },
   "outputs": [],
   "source": []
  }
 ],
 "metadata": {
  "kernelspec": {
   "display_name": "Python 3",
   "language": "python",
   "name": "python3"
  },
  "language_info": {
   "codemirror_mode": {
    "name": "ipython",
    "version": 3
   },
   "file_extension": ".py",
   "mimetype": "text/x-python",
   "name": "python",
   "nbconvert_exporter": "python",
   "pygments_lexer": "ipython3",
   "version": "3.6.1"
  }
 },
 "nbformat": 4,
 "nbformat_minor": 2
}
