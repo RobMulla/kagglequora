{
 "cells": [
  {
   "cell_type": "code",
   "execution_count": 1,
   "metadata": {
    "collapsed": true
   },
   "outputs": [],
   "source": [
    "import xgboost as xgb\n",
    "import pandas as pd\n",
    "import numpy as np"
   ]
  },
  {
   "cell_type": "code",
   "execution_count": 2,
   "metadata": {
    "collapsed": true
   },
   "outputs": [],
   "source": [
    "df_train = pd.read_csv('../input/train_features.csv')"
   ]
  },
  {
   "cell_type": "code",
   "execution_count": 3,
   "metadata": {
    "collapsed": true
   },
   "outputs": [],
   "source": [
    "y_train = df_train['is_duplicate'].values"
   ]
  },
  {
   "cell_type": "code",
   "execution_count": 5,
   "metadata": {
    "collapsed": true
   },
   "outputs": [],
   "source": [
    "x_train = df_train.drop(['id', 'qid1', 'qid2', 'question1', 'question2', 'is_duplicate'], axis=1)"
   ]
  },
  {
   "cell_type": "code",
   "execution_count": 6,
   "metadata": {},
   "outputs": [
    {
     "name": "stdout",
     "output_type": "stream",
     "text": [
      "0.19124366100096607\n"
     ]
    }
   ],
   "source": [
    "pos_train = x_train[y_train == 1]\n",
    "neg_train = x_train[y_train == 0]\n",
    "\n",
    "# Now we oversample the negative class\n",
    "# There is likely a much more elegant way to do this...\n",
    "p = 0.165\n",
    "scale = ((len(pos_train) / (len(pos_train) + len(neg_train))) / p) - 1\n",
    "while scale > 1:\n",
    "    neg_train = pd.concat([neg_train, neg_train])\n",
    "    scale -=1\n",
    "neg_train = pd.concat([neg_train, neg_train[:int(scale * len(neg_train))]])\n",
    "print(len(pos_train) / (len(pos_train) + len(neg_train)))\n",
    "\n",
    "x_train = pd.concat([pos_train, neg_train])\n",
    "y_train = (np.zeros(len(pos_train)) + 1).tolist() + np.zeros(len(neg_train)).tolist()\n",
    "del pos_train, neg_train"
   ]
  },
  {
   "cell_type": "code",
   "execution_count": 7,
   "metadata": {},
   "outputs": [
    {
     "name": "stderr",
     "output_type": "stream",
     "text": [
      "/Users/daniel/miniconda3/envs/py3/lib/python3.6/site-packages/sklearn/cross_validation.py:44: DeprecationWarning: This module was deprecated in version 0.18 in favor of the model_selection module into which all the refactored classes and functions are moved. Also note that the interface of the new CV iterators are different from that of this module. This module will be removed in 0.20.\n",
      "  \"This module will be removed in 0.20.\", DeprecationWarning)\n"
     ]
    }
   ],
   "source": [
    "from sklearn.cross_validation import train_test_split\n",
    "\n",
    "x_train, x_valid, y_train, y_valid = train_test_split(x_train, y_train, test_size=0.2)"
   ]
  },
  {
   "cell_type": "code",
   "execution_count": 16,
   "metadata": {},
   "outputs": [
    {
     "name": "stdout",
     "output_type": "stream",
     "text": [
      "[0]\ttrain-logloss:0.67711\tvalid-logloss:0.677159\n",
      "Multiple eval metrics have been passed: 'valid-logloss' will be used for early stopping.\n",
      "\n",
      "Will train until valid-logloss hasn't improved in 50 rounds.\n",
      "[10]\ttrain-logloss:0.557498\tvalid-logloss:0.558054\n",
      "[20]\ttrain-logloss:0.483751\tvalid-logloss:0.484822\n",
      "[30]\ttrain-logloss:0.434813\tvalid-logloss:0.436485\n",
      "[40]\ttrain-logloss:0.401283\tvalid-logloss:0.403618\n",
      "[50]\ttrain-logloss:0.377593\tvalid-logloss:0.380626\n",
      "[60]\ttrain-logloss:0.360541\tvalid-logloss:0.364197\n",
      "[70]\ttrain-logloss:0.347859\tvalid-logloss:0.352121\n",
      "[80]\ttrain-logloss:0.338894\tvalid-logloss:0.343727\n",
      "[90]\ttrain-logloss:0.332009\tvalid-logloss:0.337374\n",
      "[100]\ttrain-logloss:0.326268\tvalid-logloss:0.332267\n",
      "[110]\ttrain-logloss:0.322022\tvalid-logloss:0.328578\n",
      "[120]\ttrain-logloss:0.31857\tvalid-logloss:0.325635\n",
      "[130]\ttrain-logloss:0.315742\tvalid-logloss:0.32327\n",
      "[140]\ttrain-logloss:0.31348\tvalid-logloss:0.321438\n",
      "[150]\ttrain-logloss:0.3115\tvalid-logloss:0.319858\n",
      "[160]\ttrain-logloss:0.309841\tvalid-logloss:0.318583\n",
      "[170]\ttrain-logloss:0.308166\tvalid-logloss:0.317349\n",
      "[180]\ttrain-logloss:0.306565\tvalid-logloss:0.316193\n",
      "[190]\ttrain-logloss:0.305184\tvalid-logloss:0.31523\n",
      "[200]\ttrain-logloss:0.303891\tvalid-logloss:0.314349\n",
      "[210]\ttrain-logloss:0.302669\tvalid-logloss:0.313514\n",
      "[220]\ttrain-logloss:0.301329\tvalid-logloss:0.312637\n",
      "[230]\ttrain-logloss:0.300162\tvalid-logloss:0.311901\n",
      "[240]\ttrain-logloss:0.299198\tvalid-logloss:0.311304\n",
      "[250]\ttrain-logloss:0.298028\tvalid-logloss:0.31057\n",
      "[260]\ttrain-logloss:0.296801\tvalid-logloss:0.309811\n",
      "[270]\ttrain-logloss:0.295724\tvalid-logloss:0.309145\n",
      "[280]\ttrain-logloss:0.294605\tvalid-logloss:0.308479\n",
      "[290]\ttrain-logloss:0.293304\tvalid-logloss:0.307736\n",
      "[300]\ttrain-logloss:0.292419\tvalid-logloss:0.307214\n",
      "[310]\ttrain-logloss:0.291034\tvalid-logloss:0.306433\n",
      "[320]\ttrain-logloss:0.289636\tvalid-logloss:0.305649\n",
      "[330]\ttrain-logloss:0.288486\tvalid-logloss:0.304998\n",
      "[340]\ttrain-logloss:0.287556\tvalid-logloss:0.304468\n",
      "[350]\ttrain-logloss:0.286499\tvalid-logloss:0.30388\n",
      "[360]\ttrain-logloss:0.285559\tvalid-logloss:0.303372\n",
      "[370]\ttrain-logloss:0.284374\tvalid-logloss:0.302699\n",
      "[380]\ttrain-logloss:0.283178\tvalid-logloss:0.302037\n",
      "[390]\ttrain-logloss:0.282238\tvalid-logloss:0.30151\n",
      "[400]\ttrain-logloss:0.281571\tvalid-logloss:0.301144\n",
      "[410]\ttrain-logloss:0.280672\tvalid-logloss:0.300671\n",
      "[420]\ttrain-logloss:0.279709\tvalid-logloss:0.300184\n",
      "[430]\ttrain-logloss:0.278819\tvalid-logloss:0.299684\n",
      "[440]\ttrain-logloss:0.278049\tvalid-logloss:0.299279\n",
      "[450]\ttrain-logloss:0.277279\tvalid-logloss:0.298885\n",
      "[460]\ttrain-logloss:0.276393\tvalid-logloss:0.298423\n",
      "[470]\ttrain-logloss:0.275616\tvalid-logloss:0.298023\n",
      "[480]\ttrain-logloss:0.274802\tvalid-logloss:0.297582\n",
      "[490]\ttrain-logloss:0.27388\tvalid-logloss:0.297079\n",
      "[500]\ttrain-logloss:0.272988\tvalid-logloss:0.296625\n",
      "[510]\ttrain-logloss:0.272129\tvalid-logloss:0.296173\n",
      "[520]\ttrain-logloss:0.271236\tvalid-logloss:0.2957\n",
      "[530]\ttrain-logloss:0.270423\tvalid-logloss:0.295244\n",
      "[540]\ttrain-logloss:0.269742\tvalid-logloss:0.294899\n",
      "[550]\ttrain-logloss:0.269178\tvalid-logloss:0.294598\n",
      "[560]\ttrain-logloss:0.268353\tvalid-logloss:0.294142\n",
      "[570]\ttrain-logloss:0.267664\tvalid-logloss:0.293794\n",
      "[580]\ttrain-logloss:0.267116\tvalid-logloss:0.293529\n",
      "[590]\ttrain-logloss:0.266131\tvalid-logloss:0.293022\n",
      "[600]\ttrain-logloss:0.265478\tvalid-logloss:0.292687\n",
      "[610]\ttrain-logloss:0.264466\tvalid-logloss:0.292159\n",
      "[620]\ttrain-logloss:0.263683\tvalid-logloss:0.29176\n",
      "[630]\ttrain-logloss:0.263034\tvalid-logloss:0.291451\n",
      "[640]\ttrain-logloss:0.262489\tvalid-logloss:0.291169\n",
      "[650]\ttrain-logloss:0.261754\tvalid-logloss:0.290765\n",
      "[660]\ttrain-logloss:0.261095\tvalid-logloss:0.290423\n",
      "[670]\ttrain-logloss:0.260302\tvalid-logloss:0.29004\n",
      "[680]\ttrain-logloss:0.259738\tvalid-logloss:0.289747\n",
      "[690]\ttrain-logloss:0.259042\tvalid-logloss:0.289381\n",
      "[700]\ttrain-logloss:0.258548\tvalid-logloss:0.289135\n",
      "[710]\ttrain-logloss:0.257743\tvalid-logloss:0.28873\n",
      "[720]\ttrain-logloss:0.256973\tvalid-logloss:0.288362\n",
      "[730]\ttrain-logloss:0.256024\tvalid-logloss:0.287873\n",
      "[740]\ttrain-logloss:0.255241\tvalid-logloss:0.287483\n",
      "[750]\ttrain-logloss:0.25466\tvalid-logloss:0.287203\n",
      "[760]\ttrain-logloss:0.254017\tvalid-logloss:0.286912\n",
      "[770]\ttrain-logloss:0.253333\tvalid-logloss:0.286567\n",
      "[780]\ttrain-logloss:0.252774\tvalid-logloss:0.286282\n",
      "[790]\ttrain-logloss:0.252244\tvalid-logloss:0.286016\n",
      "[800]\ttrain-logloss:0.251457\tvalid-logloss:0.285616\n",
      "[810]\ttrain-logloss:0.250858\tvalid-logloss:0.285327\n",
      "[820]\ttrain-logloss:0.250403\tvalid-logloss:0.285104\n",
      "[830]\ttrain-logloss:0.249909\tvalid-logloss:0.28484\n",
      "[840]\ttrain-logloss:0.249481\tvalid-logloss:0.284619\n",
      "[850]\ttrain-logloss:0.248788\tvalid-logloss:0.28428\n",
      "[860]\ttrain-logloss:0.248375\tvalid-logloss:0.284074\n",
      "[870]\ttrain-logloss:0.247926\tvalid-logloss:0.283856\n",
      "[880]\ttrain-logloss:0.247186\tvalid-logloss:0.283492\n",
      "[890]\ttrain-logloss:0.246529\tvalid-logloss:0.283141\n",
      "[900]\ttrain-logloss:0.245996\tvalid-logloss:0.282897\n",
      "[910]\ttrain-logloss:0.245484\tvalid-logloss:0.282651\n",
      "[920]\ttrain-logloss:0.244882\tvalid-logloss:0.282356\n",
      "[930]\ttrain-logloss:0.244198\tvalid-logloss:0.282012\n",
      "[940]\ttrain-logloss:0.243454\tvalid-logloss:0.281611\n",
      "[950]\ttrain-logloss:0.242729\tvalid-logloss:0.281255\n",
      "[960]\ttrain-logloss:0.242091\tvalid-logloss:0.280954\n",
      "[970]\ttrain-logloss:0.241517\tvalid-logloss:0.280666\n",
      "[980]\ttrain-logloss:0.240939\tvalid-logloss:0.280384\n",
      "[990]\ttrain-logloss:0.240565\tvalid-logloss:0.280196\n",
      "[999]\ttrain-logloss:0.240054\tvalid-logloss:0.279925\n"
     ]
    }
   ],
   "source": [
    "params = {}\n",
    "params['objective'] = 'binary:logistic'\n",
    "params['eval_metric'] = 'logloss'\n",
    "params['eta'] = 0.03\n",
    "params['max_depth'] = 9\n",
    "\n",
    "d_train = xgb.DMatrix(x_train, label=y_train)\n",
    "d_valid = xgb.DMatrix(x_valid, label=y_valid)\n",
    "\n",
    "watchlist = [(d_train, 'train'), (d_valid, 'valid')]\n",
    "\n",
    "bst = xgb.train(params, d_train, 1000, watchlist, early_stopping_rounds=50, verbose_eval=10)"
   ]
  },
  {
   "cell_type": "code",
   "execution_count": 9,
   "metadata": {
    "collapsed": true
   },
   "outputs": [],
   "source": [
    "df_test = pd.read_csv('../input/test_features.csv')"
   ]
  },
  {
   "cell_type": "code",
   "execution_count": 11,
   "metadata": {},
   "outputs": [],
   "source": [
    "test = df_test.drop(['test_id', 'question1', 'question2'], axis=1)"
   ]
  },
  {
   "cell_type": "code",
   "execution_count": 17,
   "metadata": {
    "collapsed": true
   },
   "outputs": [],
   "source": [
    "d_test = xgb.DMatrix(test)\n",
    "p_test = bst.predict(d_test)"
   ]
  },
  {
   "cell_type": "code",
   "execution_count": 18,
   "metadata": {
    "collapsed": true
   },
   "outputs": [],
   "source": [
    "probs=np.where(df_test.question1.str.lower() == df_test.question2.str.lower, 1, p_test)"
   ]
  },
  {
   "cell_type": "code",
   "execution_count": 19,
   "metadata": {
    "collapsed": true
   },
   "outputs": [],
   "source": [
    "sub = pd.DataFrame()\n",
    "sub['test_id'] = df_test['test_id']\n",
    "sub['is_duplicate'] = probs\n",
    "sub.to_csv('../submissions/simple_xgb_v3.csv', index=False)"
   ]
  }
 ],
 "metadata": {
  "kernelspec": {
   "display_name": "Python 3",
   "language": "python",
   "name": "python3"
  },
  "language_info": {
   "codemirror_mode": {
    "name": "ipython",
    "version": 3
   },
   "file_extension": ".py",
   "mimetype": "text/x-python",
   "name": "python",
   "nbconvert_exporter": "python",
   "pygments_lexer": "ipython3",
   "version": "3.6.1"
  }
 },
 "nbformat": 4,
 "nbformat_minor": 2
}
